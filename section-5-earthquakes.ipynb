{
 "cells": [
  {
   "cell_type": "code",
   "execution_count": 1,
   "id": "d3ffa513-0a3e-4e3e-a528-738fb664bb60",
   "metadata": {
    "tags": []
   },
   "outputs": [],
   "source": [
    "import os\n",
    "import pandas as pd\n",
    "import geopandas as gpd\n",
    "import matplotlib.pyplot as plt"
   ]
  },
  {
   "cell_type": "code",
   "execution_count": 2,
   "id": "b550c6ea-0912-48c9-a450-07917b0b8f14",
   "metadata": {},
   "outputs": [
    {
     "data": {
      "text/plain": [
       "'/Users/choyt/MEDS/eds220-env-data/eds220-2024-sections'"
      ]
     },
     "execution_count": 2,
     "metadata": {},
     "output_type": "execute_result"
    }
   ],
   "source": [
    "os.getcwd()"
   ]
  },
  {
   "cell_type": "code",
   "execution_count": 3,
   "id": "835e32b7-e9ac-472f-a237-4d877f6e7312",
   "metadata": {},
   "outputs": [
    {
     "name": "stderr",
     "output_type": "stream",
     "text": [
      "ERROR 1: PROJ: proj_create_from_database: Open of /opt/anaconda3/envs/eds220-env/share/proj failed\n"
     ]
    },
    {
     "data": {
      "text/html": [
       "<div>\n",
       "<style scoped>\n",
       "    .dataframe tbody tr th:only-of-type {\n",
       "        vertical-align: middle;\n",
       "    }\n",
       "\n",
       "    .dataframe tbody tr th {\n",
       "        vertical-align: top;\n",
       "    }\n",
       "\n",
       "    .dataframe thead th {\n",
       "        text-align: right;\n",
       "    }\n",
       "</style>\n",
       "<table border=\"1\" class=\"dataframe\">\n",
       "  <thead>\n",
       "    <tr style=\"text-align: right;\">\n",
       "      <th></th>\n",
       "      <th>featurecla</th>\n",
       "      <th>scalerank</th>\n",
       "      <th>labelrank</th>\n",
       "      <th>sovereignt</th>\n",
       "      <th>sov_a3</th>\n",
       "      <th>adm0_dif</th>\n",
       "      <th>level</th>\n",
       "      <th>type</th>\n",
       "      <th>tlc</th>\n",
       "      <th>admin</th>\n",
       "      <th>...</th>\n",
       "      <th>fclass_tr</th>\n",
       "      <th>fclass_id</th>\n",
       "      <th>fclass_pl</th>\n",
       "      <th>fclass_gr</th>\n",
       "      <th>fclass_it</th>\n",
       "      <th>fclass_nl</th>\n",
       "      <th>fclass_se</th>\n",
       "      <th>fclass_bd</th>\n",
       "      <th>fclass_ua</th>\n",
       "      <th>geometry</th>\n",
       "    </tr>\n",
       "  </thead>\n",
       "  <tbody>\n",
       "    <tr>\n",
       "      <th>0</th>\n",
       "      <td>Admin-0 country</td>\n",
       "      <td>1</td>\n",
       "      <td>6</td>\n",
       "      <td>Fiji</td>\n",
       "      <td>FJI</td>\n",
       "      <td>0</td>\n",
       "      <td>2</td>\n",
       "      <td>Sovereign country</td>\n",
       "      <td>1</td>\n",
       "      <td>Fiji</td>\n",
       "      <td>...</td>\n",
       "      <td>None</td>\n",
       "      <td>None</td>\n",
       "      <td>None</td>\n",
       "      <td>None</td>\n",
       "      <td>None</td>\n",
       "      <td>None</td>\n",
       "      <td>None</td>\n",
       "      <td>None</td>\n",
       "      <td>None</td>\n",
       "      <td>MULTIPOLYGON (((180.00000 -16.06713, 180.00000...</td>\n",
       "    </tr>\n",
       "    <tr>\n",
       "      <th>1</th>\n",
       "      <td>Admin-0 country</td>\n",
       "      <td>1</td>\n",
       "      <td>3</td>\n",
       "      <td>United Republic of Tanzania</td>\n",
       "      <td>TZA</td>\n",
       "      <td>0</td>\n",
       "      <td>2</td>\n",
       "      <td>Sovereign country</td>\n",
       "      <td>1</td>\n",
       "      <td>United Republic of Tanzania</td>\n",
       "      <td>...</td>\n",
       "      <td>None</td>\n",
       "      <td>None</td>\n",
       "      <td>None</td>\n",
       "      <td>None</td>\n",
       "      <td>None</td>\n",
       "      <td>None</td>\n",
       "      <td>None</td>\n",
       "      <td>None</td>\n",
       "      <td>None</td>\n",
       "      <td>POLYGON ((33.90371 -0.95000, 34.07262 -1.05982...</td>\n",
       "    </tr>\n",
       "    <tr>\n",
       "      <th>2</th>\n",
       "      <td>Admin-0 country</td>\n",
       "      <td>1</td>\n",
       "      <td>7</td>\n",
       "      <td>Western Sahara</td>\n",
       "      <td>SAH</td>\n",
       "      <td>0</td>\n",
       "      <td>2</td>\n",
       "      <td>Indeterminate</td>\n",
       "      <td>1</td>\n",
       "      <td>Western Sahara</td>\n",
       "      <td>...</td>\n",
       "      <td>Unrecognized</td>\n",
       "      <td>Unrecognized</td>\n",
       "      <td>Unrecognized</td>\n",
       "      <td>None</td>\n",
       "      <td>None</td>\n",
       "      <td>Unrecognized</td>\n",
       "      <td>None</td>\n",
       "      <td>None</td>\n",
       "      <td>None</td>\n",
       "      <td>POLYGON ((-8.66559 27.65643, -8.66512 27.58948...</td>\n",
       "    </tr>\n",
       "  </tbody>\n",
       "</table>\n",
       "<p>3 rows × 169 columns</p>\n",
       "</div>"
      ],
      "text/plain": [
       "        featurecla  scalerank  labelrank                   sovereignt sov_a3  \\\n",
       "0  Admin-0 country          1          6                         Fiji    FJI   \n",
       "1  Admin-0 country          1          3  United Republic of Tanzania    TZA   \n",
       "2  Admin-0 country          1          7               Western Sahara    SAH   \n",
       "\n",
       "   adm0_dif  level               type tlc                        admin  ...  \\\n",
       "0         0      2  Sovereign country   1                         Fiji  ...   \n",
       "1         0      2  Sovereign country   1  United Republic of Tanzania  ...   \n",
       "2         0      2      Indeterminate   1               Western Sahara  ...   \n",
       "\n",
       "      fclass_tr     fclass_id     fclass_pl fclass_gr  fclass_it  \\\n",
       "0          None          None          None      None       None   \n",
       "1          None          None          None      None       None   \n",
       "2  Unrecognized  Unrecognized  Unrecognized      None       None   \n",
       "\n",
       "      fclass_nl fclass_se  fclass_bd fclass_ua  \\\n",
       "0          None      None       None      None   \n",
       "1          None      None       None      None   \n",
       "2  Unrecognized      None       None      None   \n",
       "\n",
       "                                            geometry  \n",
       "0  MULTIPOLYGON (((180.00000 -16.06713, 180.00000...  \n",
       "1  POLYGON ((33.90371 -0.95000, 34.07262 -1.05982...  \n",
       "2  POLYGON ((-8.66559 27.65643, -8.66512 27.58948...  \n",
       "\n",
       "[3 rows x 169 columns]"
      ]
     },
     "execution_count": 3,
     "metadata": {},
     "output_type": "execute_result"
    }
   ],
   "source": [
    "# Create absolute file path to data\n",
    "fp = os.path.join('data', \n",
    "                  'earthquakes_shapefile', \n",
    "                 'ne_110m_admin_0_countries.shp')\n",
    "\n",
    "map = gpd.read_file(fp)\n",
    "\n",
    "# Simplify column names\n",
    "map.columns = map.columns.str.lower()\n",
    "\n",
    "map.head(3)"
   ]
  },
  {
   "cell_type": "code",
   "execution_count": 4,
   "id": "dfc0fad5-a9b1-4568-9239-0eb077f5cbd8",
   "metadata": {
    "tags": []
   },
   "outputs": [],
   "source": [
    "earthquakes = pd.read_csv(\"https://raw.githubusercontent.com/carmengg/eds220-hwk-1/main/data/earthquake_data.csv\")"
   ]
  },
  {
   "cell_type": "code",
   "execution_count": 5,
   "id": "4a0be5cb-d9e6-4521-a48c-1cb9d967a776",
   "metadata": {
    "tags": []
   },
   "outputs": [
    {
     "data": {
      "text/html": [
       "<div>\n",
       "<style scoped>\n",
       "    .dataframe tbody tr th:only-of-type {\n",
       "        vertical-align: middle;\n",
       "    }\n",
       "\n",
       "    .dataframe tbody tr th {\n",
       "        vertical-align: top;\n",
       "    }\n",
       "\n",
       "    .dataframe thead th {\n",
       "        text-align: right;\n",
       "    }\n",
       "</style>\n",
       "<table border=\"1\" class=\"dataframe\">\n",
       "  <thead>\n",
       "    <tr style=\"text-align: right;\">\n",
       "      <th></th>\n",
       "      <th>time</th>\n",
       "      <th>latitude</th>\n",
       "      <th>longitude</th>\n",
       "      <th>depth</th>\n",
       "      <th>mag</th>\n",
       "      <th>id</th>\n",
       "      <th>place</th>\n",
       "      <th>type</th>\n",
       "    </tr>\n",
       "  </thead>\n",
       "  <tbody>\n",
       "    <tr>\n",
       "      <th>0</th>\n",
       "      <td>2014-01-31 23:53:37.000</td>\n",
       "      <td>60.2520</td>\n",
       "      <td>-152.7081</td>\n",
       "      <td>90.2</td>\n",
       "      <td>1.10</td>\n",
       "      <td>ak11155107</td>\n",
       "      <td>26km S of Redoubt Volcano, Alaska</td>\n",
       "      <td>earthquake</td>\n",
       "    </tr>\n",
       "    <tr>\n",
       "      <th>1</th>\n",
       "      <td>2014-01-31 23:48:35.452</td>\n",
       "      <td>37.0703</td>\n",
       "      <td>-115.1309</td>\n",
       "      <td>0.0</td>\n",
       "      <td>1.33</td>\n",
       "      <td>nn00436847</td>\n",
       "      <td>32km S of Alamo, Nevada</td>\n",
       "      <td>earthquake</td>\n",
       "    </tr>\n",
       "    <tr>\n",
       "      <th>2</th>\n",
       "      <td>2014-01-31 23:47:24.000</td>\n",
       "      <td>64.6717</td>\n",
       "      <td>-149.2528</td>\n",
       "      <td>7.1</td>\n",
       "      <td>1.30</td>\n",
       "      <td>ak11151142</td>\n",
       "      <td>12km NNW of North Nenana, Alaska</td>\n",
       "      <td>earthquake</td>\n",
       "    </tr>\n",
       "  </tbody>\n",
       "</table>\n",
       "</div>"
      ],
      "text/plain": [
       "                      time  latitude  longitude  depth   mag          id  \\\n",
       "0  2014-01-31 23:53:37.000   60.2520  -152.7081   90.2  1.10  ak11155107   \n",
       "1  2014-01-31 23:48:35.452   37.0703  -115.1309    0.0  1.33  nn00436847   \n",
       "2  2014-01-31 23:47:24.000   64.6717  -149.2528    7.1  1.30  ak11151142   \n",
       "\n",
       "                               place        type  \n",
       "0  26km S of Redoubt Volcano, Alaska  earthquake  \n",
       "1            32km S of Alamo, Nevada  earthquake  \n",
       "2   12km NNW of North Nenana, Alaska  earthquake  "
      ]
     },
     "execution_count": 5,
     "metadata": {},
     "output_type": "execute_result"
    }
   ],
   "source": [
    "earthquakes.head(3)"
   ]
  },
  {
   "cell_type": "code",
   "execution_count": 6,
   "id": "59763907-b168-4bff-ab9d-0e865f02bc10",
   "metadata": {
    "tags": []
   },
   "outputs": [],
   "source": [
    "earthquakes['time'] = pd.to_datetime(earthquakes.time)"
   ]
  },
  {
   "cell_type": "code",
   "execution_count": 7,
   "id": "67515a84-4fc8-4d4e-ae37-1ee4eeba58a6",
   "metadata": {
    "tags": []
   },
   "outputs": [
    {
     "data": {
      "text/plain": [
       "time         datetime64[ns]\n",
       "latitude            float64\n",
       "longitude           float64\n",
       "depth               float64\n",
       "mag                 float64\n",
       "id                   object\n",
       "place                object\n",
       "type                 object\n",
       "dtype: object"
      ]
     },
     "execution_count": 7,
     "metadata": {},
     "output_type": "execute_result"
    }
   ],
   "source": [
    "earthquakes.dtypes"
   ]
  },
  {
   "cell_type": "code",
   "execution_count": 8,
   "id": "b1e76199-4779-4c04-b7fa-7c658c03c62b",
   "metadata": {
    "tags": []
   },
   "outputs": [],
   "source": [
    "earthquakes['year'] = earthquakes['time'].dt.year"
   ]
  },
  {
   "cell_type": "code",
   "execution_count": 9,
   "id": "7bdf2009-306a-46a3-b9d2-4718bd5e11a4",
   "metadata": {
    "tags": []
   },
   "outputs": [],
   "source": [
    "earthquakes_filtered = earthquakes[(earthquakes.year == 2014) & (earthquakes.mag >= 6.5)]"
   ]
  },
  {
   "cell_type": "code",
   "execution_count": 10,
   "id": "c06f37d7-3e1f-4bc6-92fc-3302db117d4c",
   "metadata": {
    "tags": []
   },
   "outputs": [
    {
     "data": {
      "text/html": [
       "<div>\n",
       "<style scoped>\n",
       "    .dataframe tbody tr th:only-of-type {\n",
       "        vertical-align: middle;\n",
       "    }\n",
       "\n",
       "    .dataframe tbody tr th {\n",
       "        vertical-align: top;\n",
       "    }\n",
       "\n",
       "    .dataframe thead th {\n",
       "        text-align: right;\n",
       "    }\n",
       "</style>\n",
       "<table border=\"1\" class=\"dataframe\">\n",
       "  <thead>\n",
       "    <tr style=\"text-align: right;\">\n",
       "      <th></th>\n",
       "      <th>time</th>\n",
       "      <th>latitude</th>\n",
       "      <th>longitude</th>\n",
       "      <th>depth</th>\n",
       "      <th>mag</th>\n",
       "      <th>id</th>\n",
       "      <th>place</th>\n",
       "      <th>type</th>\n",
       "      <th>year</th>\n",
       "    </tr>\n",
       "  </thead>\n",
       "  <tbody>\n",
       "    <tr>\n",
       "      <th>9062</th>\n",
       "      <td>2014-01-01 16:03:29.000</td>\n",
       "      <td>-13.8633</td>\n",
       "      <td>167.2490</td>\n",
       "      <td>187.00</td>\n",
       "      <td>6.5</td>\n",
       "      <td>usc000lvb5</td>\n",
       "      <td>32km W of Sola, Vanuatu</td>\n",
       "      <td>earthquake</td>\n",
       "      <td>2014</td>\n",
       "    </tr>\n",
       "    <tr>\n",
       "      <th>12142</th>\n",
       "      <td>2014-02-18 09:27:13.120</td>\n",
       "      <td>14.6682</td>\n",
       "      <td>-58.9272</td>\n",
       "      <td>14.83</td>\n",
       "      <td>6.5</td>\n",
       "      <td>usc000mskt</td>\n",
       "      <td>172km NNE of Bathsheba, Barbados</td>\n",
       "      <td>earthquake</td>\n",
       "      <td>2014</td>\n",
       "    </tr>\n",
       "    <tr>\n",
       "      <th>14025</th>\n",
       "      <td>2014-02-12 09:19:49.060</td>\n",
       "      <td>35.9053</td>\n",
       "      <td>82.5864</td>\n",
       "      <td>10.00</td>\n",
       "      <td>6.9</td>\n",
       "      <td>usc000mnvj</td>\n",
       "      <td>272km ESE of Hotan, China</td>\n",
       "      <td>earthquake</td>\n",
       "      <td>2014</td>\n",
       "    </tr>\n",
       "    <tr>\n",
       "      <th>15979</th>\n",
       "      <td>2014-02-07 08:40:13.550</td>\n",
       "      <td>-15.0691</td>\n",
       "      <td>167.3721</td>\n",
       "      <td>122.00</td>\n",
       "      <td>6.5</td>\n",
       "      <td>usc000mjye</td>\n",
       "      <td>34km E of Port-Olry, Vanuatu</td>\n",
       "      <td>earthquake</td>\n",
       "      <td>2014</td>\n",
       "    </tr>\n",
       "    <tr>\n",
       "      <th>17606</th>\n",
       "      <td>2014-02-02 09:26:37.820</td>\n",
       "      <td>-32.9076</td>\n",
       "      <td>-177.8806</td>\n",
       "      <td>44.26</td>\n",
       "      <td>6.5</td>\n",
       "      <td>usc000mfm0</td>\n",
       "      <td>189km SSE of L'Esperance Rock, New Zealand</td>\n",
       "      <td>earthquake</td>\n",
       "      <td>2014</td>\n",
       "    </tr>\n",
       "  </tbody>\n",
       "</table>\n",
       "</div>"
      ],
      "text/plain": [
       "                         time  latitude  longitude   depth  mag          id  \\\n",
       "9062  2014-01-01 16:03:29.000  -13.8633   167.2490  187.00  6.5  usc000lvb5   \n",
       "12142 2014-02-18 09:27:13.120   14.6682   -58.9272   14.83  6.5  usc000mskt   \n",
       "14025 2014-02-12 09:19:49.060   35.9053    82.5864   10.00  6.9  usc000mnvj   \n",
       "15979 2014-02-07 08:40:13.550  -15.0691   167.3721  122.00  6.5  usc000mjye   \n",
       "17606 2014-02-02 09:26:37.820  -32.9076  -177.8806   44.26  6.5  usc000mfm0   \n",
       "\n",
       "                                            place        type  year  \n",
       "9062                      32km W of Sola, Vanuatu  earthquake  2014  \n",
       "12142            172km NNE of Bathsheba, Barbados  earthquake  2014  \n",
       "14025                   272km ESE of Hotan, China  earthquake  2014  \n",
       "15979                34km E of Port-Olry, Vanuatu  earthquake  2014  \n",
       "17606  189km SSE of L'Esperance Rock, New Zealand  earthquake  2014  "
      ]
     },
     "execution_count": 10,
     "metadata": {},
     "output_type": "execute_result"
    }
   ],
   "source": [
    "earthquakes_filtered.head()"
   ]
  },
  {
   "cell_type": "code",
   "execution_count": 26,
   "id": "5037385e-9d0d-433f-a4fe-2469d9e31e92",
   "metadata": {
    "tags": []
   },
   "outputs": [
    {
     "data": {
      "text/html": [
       "<div>\n",
       "<style scoped>\n",
       "    .dataframe tbody tr th:only-of-type {\n",
       "        vertical-align: middle;\n",
       "    }\n",
       "\n",
       "    .dataframe tbody tr th {\n",
       "        vertical-align: top;\n",
       "    }\n",
       "\n",
       "    .dataframe thead th {\n",
       "        text-align: right;\n",
       "    }\n",
       "</style>\n",
       "<table border=\"1\" class=\"dataframe\">\n",
       "  <thead>\n",
       "    <tr style=\"text-align: right;\">\n",
       "      <th></th>\n",
       "      <th>time</th>\n",
       "      <th>latitude</th>\n",
       "      <th>longitude</th>\n",
       "      <th>depth</th>\n",
       "      <th>mag</th>\n",
       "      <th>id</th>\n",
       "      <th>place</th>\n",
       "      <th>type</th>\n",
       "      <th>year</th>\n",
       "      <th>geometry</th>\n",
       "    </tr>\n",
       "  </thead>\n",
       "  <tbody>\n",
       "    <tr>\n",
       "      <th>9062</th>\n",
       "      <td>2014-01-01 16:03:29.000</td>\n",
       "      <td>-13.8633</td>\n",
       "      <td>167.2490</td>\n",
       "      <td>187.00</td>\n",
       "      <td>6.5</td>\n",
       "      <td>usc000lvb5</td>\n",
       "      <td>32km W of Sola, Vanuatu</td>\n",
       "      <td>earthquake</td>\n",
       "      <td>2014</td>\n",
       "      <td>POINT (167.24900 -13.86330)</td>\n",
       "    </tr>\n",
       "    <tr>\n",
       "      <th>12142</th>\n",
       "      <td>2014-02-18 09:27:13.120</td>\n",
       "      <td>14.6682</td>\n",
       "      <td>-58.9272</td>\n",
       "      <td>14.83</td>\n",
       "      <td>6.5</td>\n",
       "      <td>usc000mskt</td>\n",
       "      <td>172km NNE of Bathsheba, Barbados</td>\n",
       "      <td>earthquake</td>\n",
       "      <td>2014</td>\n",
       "      <td>POINT (-58.92720 14.66820)</td>\n",
       "    </tr>\n",
       "    <tr>\n",
       "      <th>14025</th>\n",
       "      <td>2014-02-12 09:19:49.060</td>\n",
       "      <td>35.9053</td>\n",
       "      <td>82.5864</td>\n",
       "      <td>10.00</td>\n",
       "      <td>6.9</td>\n",
       "      <td>usc000mnvj</td>\n",
       "      <td>272km ESE of Hotan, China</td>\n",
       "      <td>earthquake</td>\n",
       "      <td>2014</td>\n",
       "      <td>POINT (82.58640 35.90530)</td>\n",
       "    </tr>\n",
       "  </tbody>\n",
       "</table>\n",
       "</div>"
      ],
      "text/plain": [
       "                         time  latitude  longitude   depth  mag          id  \\\n",
       "9062  2014-01-01 16:03:29.000  -13.8633   167.2490  187.00  6.5  usc000lvb5   \n",
       "12142 2014-02-18 09:27:13.120   14.6682   -58.9272   14.83  6.5  usc000mskt   \n",
       "14025 2014-02-12 09:19:49.060   35.9053    82.5864   10.00  6.9  usc000mnvj   \n",
       "\n",
       "                                  place        type  year  \\\n",
       "9062            32km W of Sola, Vanuatu  earthquake  2014   \n",
       "12142  172km NNE of Bathsheba, Barbados  earthquake  2014   \n",
       "14025         272km ESE of Hotan, China  earthquake  2014   \n",
       "\n",
       "                          geometry  \n",
       "9062   POINT (167.24900 -13.86330)  \n",
       "12142   POINT (-58.92720 14.66820)  \n",
       "14025    POINT (82.58640 35.90530)  "
      ]
     },
     "execution_count": 26,
     "metadata": {},
     "output_type": "execute_result"
    }
   ],
   "source": [
    "# Create points from latitude and longitude\n",
    "points = gpd.points_from_xy(earthquakes_filtered.longitude, \n",
    "                            earthquakes_filtered.latitude)\n",
    "points\n",
    "\n",
    "# Create a geodataframe\n",
    "earthquakes_mag = gpd.GeoDataFrame(earthquakes_filtered,\n",
    "                                geometry = points,\n",
    "                                crs = 'WGS84')\n",
    "\n",
    "earthquakes_mag.head(3)"
   ]
  },
  {
   "cell_type": "code",
   "execution_count": 27,
   "id": "3da81f31-b90b-4cc8-9b3e-21d4a4924fd2",
   "metadata": {
    "tags": []
   },
   "outputs": [
    {
     "data": {
      "text/plain": [
       "True"
      ]
     },
     "execution_count": 27,
     "metadata": {},
     "output_type": "execute_result"
    }
   ],
   "source": [
    "map.crs == earthquakes_mag.crs"
   ]
  },
  {
   "cell_type": "code",
   "execution_count": 53,
   "id": "37ac0346-57d7-4bdf-bfed-89f3e8d68a48",
   "metadata": {
    "tags": []
   },
   "outputs": [
    {
     "data": {
      "image/png": "[encoded data removed]",
      "text/plain": [
       "<Figure size 900x500 with 2 Axes>"
      ]
     },
     "metadata": {},
     "output_type": "display_data"
    }
   ],
   "source": [
    "fig, ax = plt.subplots(figsize = (9,5)) # in inches\n",
    "\n",
    "# Remove axis for a cleaner map\n",
    "ax.axis('off')\n",
    "\n",
    "ax.set_title('Earthquakes of magnitude at least 6.5 in 2014', fontsize = 12)\n",
    "\n",
    "# Add countries\n",
    "map.plot(ax = ax,\n",
    "               color = 'lightgray',\n",
    "            edgecolor = 'none')\n",
    "# Add earthquakes   \n",
    "earthquakes_mag.plot(ax = ax,\n",
    "                    column = \"mag\",\n",
    "                    legend = True,\n",
    "                     edgecolors = 'darkred',\n",
    "                     markersize = 40,\n",
    "                    cmap = \"Oranges\",\n",
    "                    linewidth = 0.8,\n",
    "                    legend_kwds = {'label': 'moment magnitude'})\n",
    "plt.show()"
   ]
  },
  {
   "cell_type": "code",
   "execution_count": null,
   "id": "4317b789-8152-46cd-90e8-f9e6b77d7499",
   "metadata": {},
   "outputs": [],
   "source": [
    "# Add electric color power plants colored by energy source\n",
    "earthquakes_filtered.plot(ax = ax,\n",
    "                 column = \"mag\", # color by values in ths column\n",
    "                 legend = True,\n",
    "                 markersize = 4,\n",
    "                 cmap = 'tab20', # color scheme\n",
    "                 alpha = 0.5\n",
    "                 )\n",
    "\n",
    "legend_kwds = {\n",
    "                      'title': 'moment magnitude',\n",
    "                      'title_fontsize' : 'small',\n",
    "                      'loc' : 'upper left',\n",
    "                      'bbox_to_anchor' : (0,0)"
   ]
  }
 ],
 "metadata": {
  "kernelspec": {
   "display_name": "Anaconda 3 (EDS220)",
   "language": "python",
   "name": "eds220-env"
  },
  "language_info": {
   "codemirror_mode": {
    "name": "ipython",
    "version": 3
   },
   "file_extension": ".py",
   "mimetype": "text/x-python",
   "name": "python",
   "nbconvert_exporter": "python",
   "pygments_lexer": "ipython3",
   "version": "3.11.4"
  }
 },
 "nbformat": 4,
 "nbformat_minor": 5
}
