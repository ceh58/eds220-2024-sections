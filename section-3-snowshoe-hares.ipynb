{
 "cells": [
  {
   "cell_type": "markdown",
   "id": "e59a2a82-2253-425f-85c3-c639ad09b2e4",
   "metadata": {},
   "source": [
    "# Snowshoe hares at Bonanza Creek Experimental Forest\n",
    "\n",
    "This dataset contains Snowshoe hair densities at 5 locales in the Tanana valley. The data was collected from 1999 to 2002. This dataset does not contain sensitive data. There is no publication associated with this data.\n",
    "\n",
    "Kielland, K., F.S. Chapin, R.W. Ruess, and Bonanza Creek LTER. 2017. Snowshoe hare physical data in Bonanza Creek Experimental Forest: 1999-Present ver 22. Environmental Data Initiative. \n",
    "https://doi.org/10.6073/pasta/03dce4856d79b91557d8e6ce2cbcdc14 \n",
    "Accessed 2024-10-17"
   ]
  },
  {
   "cell_type": "code",
   "execution_count": 27,
   "id": "b906fda5-b22f-4846-9d8d-f32b3aec56f0",
   "metadata": {
    "tags": []
   },
   "outputs": [],
   "source": [
    "import pandas as pd\n",
    "import numpy as np"
   ]
  },
  {
   "cell_type": "markdown",
   "id": "babb8f71-721f-4805-b449-355201a132d1",
   "metadata": {
    "tags": []
   },
   "source": [
    "![Snowshoe hare](https://upload.wikimedia.org/wikipedia/commons/thumb/8/8a/SNOWSHOE_HARE_%28Lepus_americanus%29_%285-28-2015%29_quoddy_head%2C_washington_co%2C_maine_-01_%2818988734889%29.jpg/1452px-SNOWSHOE_HARE_%28Lepus_americanus%29_%285-28-2015%29_quoddy_head%2C_washington_co%2C_maine_-01_%2818988734889%29.jpg?20170313021652)"
   ]
  },
  {
   "cell_type": "markdown",
   "id": "4b55e1ce-b124-444f-ad3c-f0e5dc41ed8f",
   "metadata": {},
   "source": [
    "Photo by: ALAN SCHMIERER"
   ]
  },
  {
   "cell_type": "code",
   "execution_count": 2,
   "id": "64a0b9df-263d-4158-bab8-6008648427a8",
   "metadata": {
    "tags": []
   },
   "outputs": [],
   "source": [
    "hares = pd.read_csv('https://portal.edirepository.org/nis/dataviewer?packageid=knb-lter-bnz.55.22&entityid=f01f5d71be949b8c700b6ecd1c42c701')"
   ]
  },
  {
   "cell_type": "code",
   "execution_count": 3,
   "id": "ae3ea7d6-3ddd-4ce7-b9ac-19452b2f5a00",
   "metadata": {
    "tags": []
   },
   "outputs": [
    {
     "data": {
      "text/plain": [
       "(3380, 14)"
      ]
     },
     "execution_count": 3,
     "metadata": {},
     "output_type": "execute_result"
    }
   ],
   "source": [
    "# Dimensions\n",
    "hares.shape"
   ]
  },
  {
   "cell_type": "code",
   "execution_count": 4,
   "id": "daa0477f-43be-4127-bf97-42dac66c2ee7",
   "metadata": {
    "tags": []
   },
   "outputs": [
    {
     "data": {
      "text/plain": [
       "date           object\n",
       "time           object\n",
       "grid           object\n",
       "trap           object\n",
       "l_ear          object\n",
       "r_ear          object\n",
       "sex            object\n",
       "age            object\n",
       "weight        float64\n",
       "hindft        float64\n",
       "notes          object\n",
       "b_key         float64\n",
       "session_id      int64\n",
       "study          object\n",
       "dtype: object"
      ]
     },
     "execution_count": 4,
     "metadata": {},
     "output_type": "execute_result"
    }
   ],
   "source": [
    "# Data types\n",
    "hares.dtypes"
   ]
  },
  {
   "cell_type": "code",
   "execution_count": 5,
   "id": "cc08db1e-776c-4c70-8160-4a49dcca47d9",
   "metadata": {
    "tags": []
   },
   "outputs": [
    {
     "data": {
      "text/plain": [
       "date             0\n",
       "time          3116\n",
       "grid             0\n",
       "trap            12\n",
       "l_ear           48\n",
       "r_ear          169\n",
       "sex            352\n",
       "age           2111\n",
       "weight         535\n",
       "hindft        1747\n",
       "notes         3137\n",
       "b_key           47\n",
       "session_id       0\n",
       "study          163\n",
       "dtype: int64"
      ]
     },
     "execution_count": 5,
     "metadata": {},
     "output_type": "execute_result"
    }
   ],
   "source": [
    "# Columns with na values\n",
    "hares.isna().sum()"
   ]
  },
  {
   "cell_type": "code",
   "execution_count": 6,
   "id": "78a64b26-9ca9-4027-8f2d-1421cb9c42fc",
   "metadata": {
    "tags": []
   },
   "outputs": [
    {
     "data": {
      "text/html": [
       "<div>\n",
       "<style scoped>\n",
       "    .dataframe tbody tr th:only-of-type {\n",
       "        vertical-align: middle;\n",
       "    }\n",
       "\n",
       "    .dataframe tbody tr th {\n",
       "        vertical-align: top;\n",
       "    }\n",
       "\n",
       "    .dataframe thead th {\n",
       "        text-align: right;\n",
       "    }\n",
       "</style>\n",
       "<table border=\"1\" class=\"dataframe\">\n",
       "  <thead>\n",
       "    <tr style=\"text-align: right;\">\n",
       "      <th></th>\n",
       "      <th>weight</th>\n",
       "      <th>hindft</th>\n",
       "      <th>b_key</th>\n",
       "      <th>session_id</th>\n",
       "    </tr>\n",
       "  </thead>\n",
       "  <tbody>\n",
       "    <tr>\n",
       "      <th>count</th>\n",
       "      <td>2845.000000</td>\n",
       "      <td>1633.000000</td>\n",
       "      <td>3333.000000</td>\n",
       "      <td>3380.000000</td>\n",
       "    </tr>\n",
       "    <tr>\n",
       "      <th>mean</th>\n",
       "      <td>1346.081547</td>\n",
       "      <td>130.872627</td>\n",
       "      <td>500.640864</td>\n",
       "      <td>53.232249</td>\n",
       "    </tr>\n",
       "    <tr>\n",
       "      <th>std</th>\n",
       "      <td>345.160112</td>\n",
       "      <td>16.155295</td>\n",
       "      <td>299.421121</td>\n",
       "      <td>33.171355</td>\n",
       "    </tr>\n",
       "    <tr>\n",
       "      <th>min</th>\n",
       "      <td>0.000000</td>\n",
       "      <td>60.000000</td>\n",
       "      <td>1.000000</td>\n",
       "      <td>1.000000</td>\n",
       "    </tr>\n",
       "    <tr>\n",
       "      <th>25%</th>\n",
       "      <td>1180.000000</td>\n",
       "      <td>128.000000</td>\n",
       "      <td>235.000000</td>\n",
       "      <td>22.000000</td>\n",
       "    </tr>\n",
       "    <tr>\n",
       "      <th>50%</th>\n",
       "      <td>1400.000000</td>\n",
       "      <td>135.000000</td>\n",
       "      <td>464.000000</td>\n",
       "      <td>55.000000</td>\n",
       "    </tr>\n",
       "    <tr>\n",
       "      <th>75%</th>\n",
       "      <td>1580.000000</td>\n",
       "      <td>140.000000</td>\n",
       "      <td>755.000000</td>\n",
       "      <td>82.000000</td>\n",
       "    </tr>\n",
       "    <tr>\n",
       "      <th>max</th>\n",
       "      <td>2365.000000</td>\n",
       "      <td>160.000000</td>\n",
       "      <td>1034.000000</td>\n",
       "      <td>113.000000</td>\n",
       "    </tr>\n",
       "  </tbody>\n",
       "</table>\n",
       "</div>"
      ],
      "text/plain": [
       "            weight       hindft        b_key   session_id\n",
       "count  2845.000000  1633.000000  3333.000000  3380.000000\n",
       "mean   1346.081547   130.872627   500.640864    53.232249\n",
       "std     345.160112    16.155295   299.421121    33.171355\n",
       "min       0.000000    60.000000     1.000000     1.000000\n",
       "25%    1180.000000   128.000000   235.000000    22.000000\n",
       "50%    1400.000000   135.000000   464.000000    55.000000\n",
       "75%    1580.000000   140.000000   755.000000    82.000000\n",
       "max    2365.000000   160.000000  1034.000000   113.000000"
      ]
     },
     "execution_count": 6,
     "metadata": {},
     "output_type": "execute_result"
    }
   ],
   "source": [
    "# Min and max of weight and hind ft\n",
    "hares.describe()"
   ]
  },
  {
   "cell_type": "code",
   "execution_count": 9,
   "id": "243fa6d4-4ce9-4653-a201-5ed7ca028a14",
   "metadata": {
    "tags": []
   },
   "outputs": [
    {
     "name": "stdout",
     "output_type": "stream",
     "text": [
      "Unique values for study include ['Population' 'Collar' nan 'Metabolic' 'Metabolic/Collar']\n",
      "Unique values for trap include ['1A' '2C' '2D' '2E' '3B' '3D' '4A' '4B' '4C' '4E' '5A' '5C' '5D' '5E'\n",
      " '10C' '1C' '1E' '2A' '2B' '3C' '3E' '5B' '6A' '6B' '6C' '7B' '7C' '7E'\n",
      " '8A' '8B' '8E' '9A' '9D' '1D' '6E' '7D' '8C' '8D' '9B' '3A' '10B' '1B'\n",
      " '7A' '9E' '4D' '10A' '6D' '9C' '10D' '10E' '10b' '2a' '2b' '2d' '3b' '4a'\n",
      " '4c' '4e' '5b' '6c' '7a' '7b' '7d' '7e' '8e' '9a' '1b' '2c' '2e' '3c'\n",
      " '1e' '3e' '5d' '3d' '4d' '7c' '8c' '10c' '1c' '1d' '9d' '5e' '6a' '8a'\n",
      " '8b' '6b' '10e' '6e' nan '4b' '5c' '9c' '10a' '5a' '9b' '9e' '6d' '1a'\n",
      " '3a' '10d' '8d' '4f' '5f' '3f' '2f' '2g' '5g' '4g' '1g' '7f' '6f' '6g'\n",
      " '3g' '4c ' '4e ' '1e ' '1b ' '2b ' '6b ' '2c ' '5c ' '4b ']\n",
      "Unique values for sex include [nan 'M' 'F' '?' 'F?' 'M?' 'pf' 'm' 'f' 'f?' 'm?' 'f ' 'm ']\n"
     ]
    }
   ],
   "source": [
    "print(\"Unique values for study include\", hares['study'].unique())\n",
    "print(\"Unique values for trap include\", hares['trap'].unique())\n",
    "print(\"Unique values for sex include\", hares['sex'].unique())\n",
    "#print(\"Unique values for notes include\", hares['notes'].unique())"
   ]
  },
  {
   "cell_type": "code",
   "execution_count": 8,
   "id": "814faaa6-14e6-4493-9fe1-d108f97429da",
   "metadata": {
    "tags": []
   },
   "outputs": [
    {
     "data": {
      "text/html": [
       "<div>\n",
       "<style scoped>\n",
       "    .dataframe tbody tr th:only-of-type {\n",
       "        vertical-align: middle;\n",
       "    }\n",
       "\n",
       "    .dataframe tbody tr th {\n",
       "        vertical-align: top;\n",
       "    }\n",
       "\n",
       "    .dataframe thead th {\n",
       "        text-align: right;\n",
       "    }\n",
       "</style>\n",
       "<table border=\"1\" class=\"dataframe\">\n",
       "  <thead>\n",
       "    <tr style=\"text-align: right;\">\n",
       "      <th></th>\n",
       "      <th>date</th>\n",
       "      <th>time</th>\n",
       "      <th>grid</th>\n",
       "      <th>trap</th>\n",
       "      <th>l_ear</th>\n",
       "      <th>r_ear</th>\n",
       "      <th>sex</th>\n",
       "      <th>age</th>\n",
       "      <th>weight</th>\n",
       "      <th>hindft</th>\n",
       "      <th>notes</th>\n",
       "      <th>b_key</th>\n",
       "      <th>session_id</th>\n",
       "      <th>study</th>\n",
       "    </tr>\n",
       "  </thead>\n",
       "  <tbody>\n",
       "    <tr>\n",
       "      <th>3375</th>\n",
       "      <td>8/8/2002</td>\n",
       "      <td>18:00:00</td>\n",
       "      <td>bonrip</td>\n",
       "      <td>1b</td>\n",
       "      <td>1201</td>\n",
       "      <td>1202</td>\n",
       "      <td>NaN</td>\n",
       "      <td>NaN</td>\n",
       "      <td>1400.0</td>\n",
       "      <td>NaN</td>\n",
       "      <td>NaN</td>\n",
       "      <td>63.0</td>\n",
       "      <td>64</td>\n",
       "      <td>Population</td>\n",
       "    </tr>\n",
       "    <tr>\n",
       "      <th>3376</th>\n",
       "      <td>8/8/2002</td>\n",
       "      <td>6:00:00</td>\n",
       "      <td>bonrip</td>\n",
       "      <td>4b</td>\n",
       "      <td>1201</td>\n",
       "      <td>1202</td>\n",
       "      <td>NaN</td>\n",
       "      <td>NaN</td>\n",
       "      <td>NaN</td>\n",
       "      <td>NaN</td>\n",
       "      <td>NaN</td>\n",
       "      <td>63.0</td>\n",
       "      <td>64</td>\n",
       "      <td>Population</td>\n",
       "    </tr>\n",
       "    <tr>\n",
       "      <th>3377</th>\n",
       "      <td>8/7/2002</td>\n",
       "      <td>NaN</td>\n",
       "      <td>bonrip</td>\n",
       "      <td>4b</td>\n",
       "      <td>1217</td>\n",
       "      <td>1218</td>\n",
       "      <td>NaN</td>\n",
       "      <td>NaN</td>\n",
       "      <td>1000.0</td>\n",
       "      <td>134.0</td>\n",
       "      <td>NaN</td>\n",
       "      <td>69.0</td>\n",
       "      <td>64</td>\n",
       "      <td>Population</td>\n",
       "    </tr>\n",
       "    <tr>\n",
       "      <th>3378</th>\n",
       "      <td>8/8/2002</td>\n",
       "      <td>NaN</td>\n",
       "      <td>bonrip</td>\n",
       "      <td>6d</td>\n",
       "      <td>1217</td>\n",
       "      <td>1218</td>\n",
       "      <td>NaN</td>\n",
       "      <td>NaN</td>\n",
       "      <td>990.0</td>\n",
       "      <td>NaN</td>\n",
       "      <td>NaN</td>\n",
       "      <td>69.0</td>\n",
       "      <td>64</td>\n",
       "      <td>Population</td>\n",
       "    </tr>\n",
       "    <tr>\n",
       "      <th>3379</th>\n",
       "      <td>8/6/2002</td>\n",
       "      <td>NaN</td>\n",
       "      <td>bonrip</td>\n",
       "      <td>4b</td>\n",
       "      <td>1058</td>\n",
       "      <td>1060</td>\n",
       "      <td>M</td>\n",
       "      <td>NaN</td>\n",
       "      <td>1460.0</td>\n",
       "      <td>119.0</td>\n",
       "      <td>NaN</td>\n",
       "      <td>32.0</td>\n",
       "      <td>64</td>\n",
       "      <td>Population</td>\n",
       "    </tr>\n",
       "  </tbody>\n",
       "</table>\n",
       "</div>"
      ],
      "text/plain": [
       "          date      time    grid trap l_ear r_ear  sex  age  weight  hindft  \\\n",
       "3375  8/8/2002  18:00:00  bonrip  1b   1201  1202  NaN  NaN  1400.0     NaN   \n",
       "3376  8/8/2002   6:00:00  bonrip  4b   1201  1202  NaN  NaN     NaN     NaN   \n",
       "3377  8/7/2002       NaN  bonrip   4b  1217  1218  NaN  NaN  1000.0   134.0   \n",
       "3378  8/8/2002       NaN  bonrip   6d  1217  1218  NaN  NaN   990.0     NaN   \n",
       "3379  8/6/2002       NaN  bonrip   4b  1058  1060    M  NaN  1460.0   119.0   \n",
       "\n",
       "     notes  b_key  session_id       study  \n",
       "3375   NaN   63.0          64  Population  \n",
       "3376   NaN   63.0          64  Population  \n",
       "3377   NaN   69.0          64  Population  \n",
       "3378   NaN   69.0          64  Population  \n",
       "3379   NaN   32.0          64  Population  "
      ]
     },
     "execution_count": 8,
     "metadata": {},
     "output_type": "execute_result"
    }
   ],
   "source": [
    "hares.tail()"
   ]
  },
  {
   "cell_type": "markdown",
   "id": "faed8d0c-9a5d-49be-95b0-b533e8fdbe68",
   "metadata": {},
   "source": [
    "| Sex |     Definitions     |\n",
    "|-----|---------------------|\n",
    "|  m  |         male        |\n",
    "|  f  |        female       |\n",
    "|  m? | male (not confirmed)|"
   ]
  },
  {
   "cell_type": "code",
   "execution_count": 19,
   "id": "6f1b8ab4-0a36-4b7a-b8f5-9ffdbf87f72f",
   "metadata": {
    "tags": []
   },
   "outputs": [
    {
     "data": {
      "text/plain": [
       "sex\n",
       "F     1161\n",
       "M      730\n",
       "f      556\n",
       "m      515\n",
       "?       40\n",
       "F?      10\n",
       "f        4\n",
       "m        4\n",
       "f?       3\n",
       "M?       2\n",
       "m?       2\n",
       "pf       1\n",
       "Name: count, dtype: int64"
      ]
     },
     "execution_count": 19,
     "metadata": {},
     "output_type": "execute_result"
    }
   ],
   "source": [
    "hares['sex'].value_counts()"
   ]
  },
  {
   "cell_type": "code",
   "execution_count": 21,
   "id": "73ebce68-b771-473c-9b07-0dc22fc01137",
   "metadata": {
    "tags": []
   },
   "outputs": [
    {
     "data": {
      "text/plain": [
       "sex\n",
       "F      1161\n",
       "M       730\n",
       "f       556\n",
       "m       515\n",
       "NaN     352\n",
       "?        40\n",
       "F?       10\n",
       "f         4\n",
       "m         4\n",
       "f?        3\n",
       "M?        2\n",
       "m?        2\n",
       "pf        1\n",
       "Name: count, dtype: int64"
      ]
     },
     "execution_count": 21,
     "metadata": {},
     "output_type": "execute_result"
    }
   ],
   "source": [
    "# Include NaN value counts\n",
    "hares['sex'].value_counts(dropna = False)"
   ]
  },
  {
   "cell_type": "markdown",
   "id": "c4b6ded2-6c97-43f2-97fe-e6993bd70baf",
   "metadata": {},
   "source": [
    "The values do not correspond to the values declared in the metadata. A potential cause of multiple codes could be multiple data collectors that weren't in agreement. Potential erros from data entry. Some values seem to be repeated: f? and F? seem to be the same but are recorded as separate values."
   ]
  },
  {
   "cell_type": "code",
   "execution_count": 26,
   "id": "6b2776ea-1508-4ace-b955-ae4b8053ebbe",
   "metadata": {
    "tags": []
   },
   "outputs": [
    {
     "data": {
      "text/plain": [
       "sex\n",
       "f      1721\n",
       "m      1249\n",
       "NaN     352\n",
       "?        40\n",
       "f?       13\n",
       "m?        4\n",
       "pf        1\n",
       "Name: count, dtype: int64"
      ]
     },
     "execution_count": 26,
     "metadata": {},
     "output_type": "execute_result"
    }
   ],
   "source": [
    "hares['sex'].str.lower().str.strip().value_counts(dropna = False)"
   ]
  },
  {
   "cell_type": "markdown",
   "id": "1581c3b2-378c-4596-ba55-f4328404ff9f",
   "metadata": {},
   "source": [
    "## Brainstorm:\n",
    "We would likely use string detect to detect \"f\" or \"m\" to combine those values. Anything that is just \"?\"  gets assigned to NaN."
   ]
  },
  {
   "cell_type": "code",
   "execution_count": 39,
   "id": "92860a37-018d-42d8-9c8a-665f606eb52c",
   "metadata": {
    "tags": []
   },
   "outputs": [
    {
     "name": "stdout",
     "output_type": "stream",
     "text": [
      "0        nan\n",
      "1       male\n",
      "2       male\n",
      "3        nan\n",
      "4        nan\n",
      "        ... \n",
      "3375     nan\n",
      "3376     nan\n",
      "3377     nan\n",
      "3378     nan\n",
      "3379    male\n",
      "Name: sex_simple, Length: 3380, dtype: object\n"
     ]
    }
   ],
   "source": [
    "condition = [hares['sex'].isin([\"F\", \"f\", \"f_\"]),\n",
    "            hares['sex'].isin([\"M\", \"m\", \"m_\"])]\n",
    "\n",
    "gender = [\"female\", \"male\"]\n",
    "\n",
    "hares['sex_simple'] = np.select(condition, gender, default = np.nan)\n",
    "\n",
    "print(hares['sex_simple'])"
   ]
  },
  {
   "cell_type": "code",
   "execution_count": 41,
   "id": "8af64686-faaa-4c02-b185-3f78c5d9ed92",
   "metadata": {
    "tags": []
   },
   "outputs": [
    {
     "data": {
      "text/plain": [
       "sex_simple\n",
       "female    1366.920372\n",
       "male      1352.145553\n",
       "nan       1176.511111\n",
       "Name: weight, dtype: float64"
      ]
     },
     "execution_count": 41,
     "metadata": {},
     "output_type": "execute_result"
    }
   ],
   "source": [
    "hares.groupby('sex_simple').weight.mean()"
   ]
  },
  {
   "cell_type": "code",
   "execution_count": null,
   "id": "c85b4086-b3e7-4fb0-8e58-8eb84849e323",
   "metadata": {},
   "outputs": [],
   "source": [
    "import pandas as pd\n",
    "import numpy as np\n",
    "\n",
    "hares = pd.read_csv('https://portal.edirepository.org/nis/dataviewer?packageid=knb-lter-bnz.55.22&entityid=f01f5d71be949b8c700b6ecd1c42c701')\n",
    "\n",
    "hares['sex'].str.lower().str.strip().value_counts(dropna = False)\n",
    "\n",
    "condition = [hares['sex'].isin([\"F\", \"f\", \"f_\"]),\n",
    "            hares['sex'].isin([\"M\", \"m\", \"m_\"])]\n",
    "\n",
    "gender = [\"female\", \"male\"]\n",
    "\n",
    "hares['sex_simple'] = np.select(condition, gender, default = np.nan)\n",
    "\n",
    "print(hares['sex_simple'])\n",
    "\n",
    "hares.groupby('sex_simple').weight.mean()"
   ]
  }
 ],
 "metadata": {
  "kernelspec": {
   "display_name": "Python 3.10.0",
   "language": "python",
   "name": "python3.10.0"
  },
  "language_info": {
   "codemirror_mode": {
    "name": "ipython",
    "version": 3
   },
   "file_extension": ".py",
   "mimetype": "text/x-python",
   "name": "python",
   "nbconvert_exporter": "python",
   "pygments_lexer": "ipython3",
   "version": "3.10.0"
  }
 },
 "nbformat": 4,
 "nbformat_minor": 5
}
