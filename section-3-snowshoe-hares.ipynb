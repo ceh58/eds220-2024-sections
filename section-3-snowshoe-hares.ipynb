{
 "cells": [
  {
   "cell_type": "markdown",
   "id": "e59a2a82-2253-425f-85c3-c639ad09b2e4",
   "metadata": {},
   "source": [
    "# Snowshoe hares at Bonanza Creek Experimental Forest\n",
    "\n",
    "i. This dataset contains Snowshoe hair densities at 5 locales in the Tanana valley. \n",
    "ii. The data was collected from 1999 to 2002.\n",
    "iii. This dataset does not contain sensitive data.\n",
    "iv. There is no publication associated with this data.\n",
    "\n",
    "Kielland, K., F.S. Chapin, R.W. Ruess, and Bonanza Creek LTER. 2017. Snowshoe hare physical data in Bonanza Creek Experimental Forest: 1999-Present ver 22. Environmental Data Initiative. \n",
    "https://doi.org/10.6073/pasta/03dce4856d79b91557d8e6ce2cbcdc14 \n",
    "Accessed 2024-10-17"
   ]
  },
  {
   "cell_type": "code",
   "execution_count": 6,
   "id": "b906fda5-b22f-4846-9d8d-f32b3aec56f0",
   "metadata": {
    "tags": []
   },
   "outputs": [],
   "source": [
    "import pandas as pd"
   ]
  },
  {
   "cell_type": "markdown",
   "id": "babb8f71-721f-4805-b449-355201a132d1",
   "metadata": {
    "tags": []
   },
   "source": [
    "![Snowshoe hare](https://upload.wikimedia.org/wikipedia/commons/thumb/8/8a/SNOWSHOE_HARE_%28Lepus_americanus%29_%285-28-2015%29_quoddy_head%2C_washington_co%2C_maine_-01_%2818988734889%29.jpg/1452px-SNOWSHOE_HARE_%28Lepus_americanus%29_%285-28-2015%29_quoddy_head%2C_washington_co%2C_maine_-01_%2818988734889%29.jpg?20170313021652)"
   ]
  },
  {
   "cell_type": "markdown",
   "id": "4b55e1ce-b124-444f-ad3c-f0e5dc41ed8f",
   "metadata": {},
   "source": [
    "Photo by: ALAN SCHMIERER"
   ]
  }
 ],
 "metadata": {
  "kernelspec": {
   "display_name": "Python 3.10.0",
   "language": "python",
   "name": "python3.10.0"
  },
  "language_info": {
   "codemirror_mode": {
    "name": "ipython",
    "version": 3
   },
   "file_extension": ".py",
   "mimetype": "text/x-python",
   "name": "python",
   "nbconvert_exporter": "python",
   "pygments_lexer": "ipython3",
   "version": "3.10.0"
  }
 },
 "nbformat": 4,
 "nbformat_minor": 5
}
